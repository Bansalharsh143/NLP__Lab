{
  "nbformat": 4,
  "nbformat_minor": 0,
  "metadata": {
    "colab": {
      "provenance": []
    },
    "kernelspec": {
      "name": "python3",
      "display_name": "Python 3"
    },
    "language_info": {
      "name": "python"
    }
  },
  "cells": [
    {
      "cell_type": "code",
      "execution_count": 1,
      "metadata": {
        "colab": {
          "base_uri": "https://localhost:8080/"
        },
        "id": "ZSXvTyC8Zb6b",
        "outputId": "cc74c9ba-bde6-4f42-fe15-33bd6941d128"
      },
      "outputs": [
        {
          "output_type": "stream",
          "name": "stderr",
          "text": [
            "[nltk_data] Downloading package stopwords to /root/nltk_data...\n",
            "[nltk_data]   Unzipping corpora/stopwords.zip.\n",
            "[nltk_data] Downloading package punkt to /root/nltk_data...\n",
            "[nltk_data]   Unzipping tokenizers/punkt.zip.\n"
          ]
        },
        {
          "output_type": "stream",
          "name": "stdout",
          "text": [
            "English: example sentence English .\n",
            "Spanish: ejemplo frase español .\n",
            "French: Ceci exemple phrase français .\n",
            "German: Beispiel Satz Deutsch .\n",
            "Italian: esempio frase italiano .\n"
          ]
        }
      ],
      "source": [
        "import nltk\n",
        "from nltk.corpus import stopwords\n",
        "from nltk.tokenize import word_tokenize\n",
        "\n",
        "# Download NLTK stopwords for multiple languages\n",
        "nltk.download('stopwords')\n",
        "nltk.download('punkt')\n",
        "\n",
        "def remove_stopwords(text, language):\n",
        "    stop_words = set(stopwords.words(language))\n",
        "    words = word_tokenize(text)\n",
        "    filtered_words = [word for word in words if word.lower() not in stop_words]\n",
        "    return ' '.join(filtered_words)\n",
        "\n",
        "# Example text in English\n",
        "english_text = \"This is an example sentence in English.\"\n",
        "\n",
        "# Example text in Spanish\n",
        "spanish_text = \"Este es un ejemplo de frase en español.\"\n",
        "\n",
        "# Example text in French\n",
        "french_text = \"Ceci est un exemple de phrase en français.\"\n",
        "\n",
        "# Example text in German\n",
        "german_text = \"Dies ist ein Beispiel für einen Satz in Deutsch.\"\n",
        "\n",
        "# Example text in Italian\n",
        "italian_text = \"Questo è un esempio di frase in italiano.\"\n",
        "\n",
        "# Remove stopwords for each language\n",
        "english_result = remove_stopwords(english_text, 'english')\n",
        "spanish_result = remove_stopwords(spanish_text, 'spanish')\n",
        "french_result = remove_stopwords(french_text, 'french')\n",
        "german_result = remove_stopwords(german_text, 'german')\n",
        "italian_result = remove_stopwords(italian_text, 'italian')\n",
        "\n",
        "# Print the results\n",
        "print(\"English:\", english_result)\n",
        "print(\"Spanish:\", spanish_result)\n",
        "print(\"French:\", french_result)\n",
        "print(\"German:\", german_result)\n",
        "print(\"Italian:\", italian_result)"
      ]
    }
  ]
}